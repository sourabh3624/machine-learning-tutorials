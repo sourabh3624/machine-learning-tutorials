{
 "cells": [
  {
   "cell_type": "markdown",
   "id": "3e2d1f42",
   "metadata": {},
   "source": [
    "# python learning"
   ]
  },
  {
   "cell_type": "code",
   "execution_count": 2,
   "id": "119eb8a4",
   "metadata": {},
   "outputs": [],
   "source": [
    "#DATA TYPE:"
   ]
  },
  {
   "cell_type": "code",
   "execution_count": 3,
   "id": "a8d634ed",
   "metadata": {},
   "outputs": [
    {
     "data": {
      "text/plain": [
       "'STRSTRSTRSTRSTRSTRSTRSTRSTRSTR'"
      ]
     },
     "execution_count": 3,
     "metadata": {},
     "output_type": "execute_result"
    }
   ],
   "source": [
    "10*\"STR\""
   ]
  },
  {
   "cell_type": "code",
   "execution_count": 5,
   "id": "d5fa65f3",
   "metadata": {},
   "outputs": [
    {
     "data": {
      "text/plain": [
       "int"
      ]
     },
     "execution_count": 5,
     "metadata": {},
     "output_type": "execute_result"
    }
   ],
   "source": [
    "type(10)\n"
   ]
  },
  {
   "cell_type": "markdown",
   "id": "90deb820",
   "metadata": {},
   "source": [
    "# string:\n"
   ]
  },
  {
   "cell_type": "code",
   "execution_count": 6,
   "id": "f1488304",
   "metadata": {},
   "outputs": [
    {
     "data": {
      "text/plain": [
       "'hello'"
      ]
     },
     "execution_count": 6,
     "metadata": {},
     "output_type": "execute_result"
    }
   ],
   "source": [
    "\"hello\""
   ]
  },
  {
   "cell_type": "code",
   "execution_count": 7,
   "id": "9e53d44e",
   "metadata": {},
   "outputs": [
    {
     "data": {
      "text/plain": [
       "str"
      ]
     },
     "execution_count": 7,
     "metadata": {},
     "output_type": "execute_result"
    }
   ],
   "source": [
    "type('hello welcome')"
   ]
  },
  {
   "cell_type": "markdown",
   "id": "41a51cb2",
   "metadata": {},
   "source": [
    "# VARIABLE ASSIGMENT:\n"
   ]
  },
  {
   "cell_type": "code",
   "execution_count": 8,
   "id": "8619d4ca",
   "metadata": {},
   "outputs": [],
   "source": [
    "A=10"
   ]
  },
  {
   "cell_type": "code",
   "execution_count": 9,
   "id": "a13b6f72",
   "metadata": {},
   "outputs": [
    {
     "data": {
      "text/plain": [
       "int"
      ]
     },
     "execution_count": 9,
     "metadata": {},
     "output_type": "execute_result"
    }
   ],
   "source": [
    "type(A)"
   ]
  },
  {
   "cell_type": "code",
   "execution_count": 10,
   "id": "d9802fff",
   "metadata": {},
   "outputs": [],
   "source": [
    "a=10\n",
    "b=35"
   ]
  },
  {
   "cell_type": "code",
   "execution_count": 11,
   "id": "d5cab5f4",
   "metadata": {},
   "outputs": [
    {
     "name": "stdout",
     "output_type": "stream",
     "text": [
      "350\n",
      "-25\n",
      "45\n",
      "0.2857142857142857\n"
     ]
    }
   ],
   "source": [
    "print(a*b)\n",
    "print(a-b)\n",
    "print(a+b)\n",
    "print(a/b)\n"
   ]
  },
  {
   "cell_type": "code",
   "execution_count": 12,
   "id": "0b1238d6",
   "metadata": {},
   "outputs": [
    {
     "name": "stdout",
     "output_type": "stream",
     "text": [
      "350.2857142857143\n"
     ]
    }
   ],
   "source": [
    "print((a*b)+(a/b))"
   ]
  },
  {
   "cell_type": "code",
   "execution_count": 13,
   "id": "88a3eaf6",
   "metadata": {},
   "outputs": [],
   "source": [
    "#various way to print:\n",
    "first_name='sourabh'\n",
    "last_name=\"bainsla\""
   ]
  },
  {
   "cell_type": "code",
   "execution_count": 14,
   "id": "109a1bec",
   "metadata": {},
   "outputs": [
    {
     "name": "stdout",
     "output_type": "stream",
     "text": [
      "my first name is sourabh and last name is bainsla\n"
     ]
    }
   ],
   "source": [
    "print(\"my first name is {} and last name is {}\".format(first_name,last_name))"
   ]
  },
  {
   "cell_type": "code",
   "execution_count": 15,
   "id": "12d085c8",
   "metadata": {},
   "outputs": [
    {
     "name": "stdout",
     "output_type": "stream",
     "text": [
      "my first name is sourabh and last name is bainsla\n"
     ]
    }
   ],
   "source": [
    "print(\"my first name is {first} and last name is {last}\".format(first=first_name,last=last_name))"
   ]
  },
  {
   "cell_type": "code",
   "execution_count": 16,
   "id": "feee37c6",
   "metadata": {},
   "outputs": [
    {
     "data": {
      "text/plain": [
       "7"
      ]
     },
     "execution_count": 16,
     "metadata": {},
     "output_type": "execute_result"
    }
   ],
   "source": [
    "len(\"sourabh\")"
   ]
  },
  {
   "cell_type": "code",
   "execution_count": 17,
   "id": "c710da55",
   "metadata": {},
   "outputs": [
    {
     "data": {
      "text/plain": [
       "list"
      ]
     },
     "execution_count": 17,
     "metadata": {},
     "output_type": "execute_result"
    }
   ],
   "source": [
    "type([1,2,3,4,5,6,7])"
   ]
  },
  {
   "cell_type": "markdown",
   "id": "c07d8550",
   "metadata": {},
   "source": [
    "# python data structure:\n"
   ]
  },
  {
   "cell_type": "code",
   "execution_count": 19,
   "id": "8037bd23",
   "metadata": {},
   "outputs": [
    {
     "name": "stdout",
     "output_type": "stream",
     "text": [
      "True False\n"
     ]
    }
   ],
   "source": [
    "# boolean variables:\n",
    "print(True,False)"
   ]
  },
  {
   "cell_type": "code",
   "execution_count": 20,
   "id": "1874c62a",
   "metadata": {},
   "outputs": [
    {
     "data": {
      "text/plain": [
       "bool"
      ]
     },
     "execution_count": 20,
     "metadata": {},
     "output_type": "execute_result"
    }
   ],
   "source": [
    "type(True)"
   ]
  },
  {
   "cell_type": "code",
   "execution_count": 21,
   "id": "401ae4e3",
   "metadata": {},
   "outputs": [],
   "source": [
    "str=\"sourabhbainsla@3624\""
   ]
  },
  {
   "cell_type": "code",
   "execution_count": 24,
   "id": "1bb2d686",
   "metadata": {},
   "outputs": [
    {
     "name": "stdout",
     "output_type": "stream",
     "text": [
      "False\n",
      "False\n",
      "False\n",
      "False\n",
      "False\n",
      "True\n"
     ]
    }
   ],
   "source": [
    "print(str.isalnum())\n",
    "print(str.isalpha())\n",
    "print(str.isdigit())\n",
    "print(str.istitle())\n",
    "print(str.endswith(\"d\"))\n",
    "print(str.startswith(\"s\"))"
   ]
  },
  {
   "cell_type": "code",
   "execution_count": 25,
   "id": "f0dd8cea",
   "metadata": {},
   "outputs": [
    {
     "data": {
      "text/plain": [
       "True"
      ]
     },
     "execution_count": 25,
     "metadata": {},
     "output_type": "execute_result"
    }
   ],
   "source": [
    "# boolean and logical operator:\n",
    "True and True"
   ]
  },
  {
   "cell_type": "code",
   "execution_count": 26,
   "id": "037fc4ca",
   "metadata": {},
   "outputs": [
    {
     "data": {
      "text/plain": [
       "True"
      ]
     },
     "execution_count": 26,
     "metadata": {},
     "output_type": "execute_result"
    }
   ],
   "source": [
    "True or True"
   ]
  },
  {
   "cell_type": "code",
   "execution_count": 27,
   "id": "fd8ab875",
   "metadata": {},
   "outputs": [
    {
     "data": {
      "text/plain": [
       "False"
      ]
     },
     "execution_count": 27,
     "metadata": {},
     "output_type": "execute_result"
    }
   ],
   "source": [
    "True and False"
   ]
  },
  {
   "cell_type": "code",
   "execution_count": 29,
   "id": "e2c3968a",
   "metadata": {},
   "outputs": [
    {
     "data": {
      "text/plain": [
       "True"
      ]
     },
     "execution_count": 29,
     "metadata": {},
     "output_type": "execute_result"
    }
   ],
   "source": [
    "False or True"
   ]
  },
  {
   "cell_type": "code",
   "execution_count": 32,
   "id": "7fb2e712",
   "metadata": {},
   "outputs": [],
   "source": [
    "str1=\"hello welcome\"\n",
    "str2=\"Rembo@123\""
   ]
  },
  {
   "cell_type": "code",
   "execution_count": 34,
   "id": "e23eaea2",
   "metadata": {},
   "outputs": [
    {
     "data": {
      "text/plain": [
       "False"
      ]
     },
     "execution_count": 34,
     "metadata": {},
     "output_type": "execute_result"
    }
   ],
   "source": [
    "str2.isalpha() and str1.isnum()"
   ]
  },
  {
   "cell_type": "markdown",
   "id": "b9cd530d",
   "metadata": {},
   "source": [
    "# lists:\n"
   ]
  },
  {
   "cell_type": "code",
   "execution_count": 35,
   "id": "ec1c854e",
   "metadata": {},
   "outputs": [
    {
     "data": {
      "text/plain": [
       "list"
      ]
     },
     "execution_count": 35,
     "metadata": {},
     "output_type": "execute_result"
    }
   ],
   "source": [
    "type([])"
   ]
  },
  {
   "cell_type": "code",
   "execution_count": 36,
   "id": "35c7a350",
   "metadata": {},
   "outputs": [],
   "source": [
    "lst=[\"math\",\"hello\",1,23,4,56,7]"
   ]
  },
  {
   "cell_type": "code",
   "execution_count": 37,
   "id": "e314a918",
   "metadata": {},
   "outputs": [],
   "source": [
    "lst.append('sourabh')"
   ]
  },
  {
   "cell_type": "code",
   "execution_count": 38,
   "id": "15c8f97f",
   "metadata": {},
   "outputs": [
    {
     "name": "stdout",
     "output_type": "stream",
     "text": [
      "['math', 'hello', 1, 23, 4, 56, 7, 'sourabh']\n"
     ]
    }
   ],
   "source": [
    "print(lst)"
   ]
  },
  {
   "cell_type": "code",
   "execution_count": 39,
   "id": "f7337bea",
   "metadata": {},
   "outputs": [
    {
     "data": {
      "text/plain": [
       "1"
      ]
     },
     "execution_count": 39,
     "metadata": {},
     "output_type": "execute_result"
    }
   ],
   "source": [
    "#indexing inlist:\n",
    "lst[2]"
   ]
  },
  {
   "cell_type": "code",
   "execution_count": 40,
   "id": "2eec38a3",
   "metadata": {},
   "outputs": [
    {
     "data": {
      "text/plain": [
       "['math', 'hello', 1, 23, 4, 56, 7, 'sourabh']"
      ]
     },
     "execution_count": 40,
     "metadata": {},
     "output_type": "execute_result"
    }
   ],
   "source": [
    "lst[:]"
   ]
  },
  {
   "cell_type": "code",
   "execution_count": 41,
   "id": "0eb9d0bf",
   "metadata": {},
   "outputs": [
    {
     "data": {
      "text/plain": [
       "[1]"
      ]
     },
     "execution_count": 41,
     "metadata": {},
     "output_type": "execute_result"
    }
   ],
   "source": [
    "lst[2:3]"
   ]
  },
  {
   "cell_type": "code",
   "execution_count": 42,
   "id": "73ae4b10",
   "metadata": {},
   "outputs": [],
   "source": [
    "#insert\n",
    "lst.insert(1,'bainsla')"
   ]
  },
  {
   "cell_type": "code",
   "execution_count": 43,
   "id": "fcc5096f",
   "metadata": {},
   "outputs": [
    {
     "name": "stdout",
     "output_type": "stream",
     "text": [
      "['math', 'bainsla', 'hello', 1, 23, 4, 56, 7, 'sourabh']\n"
     ]
    }
   ],
   "source": [
    "print(lst)"
   ]
  },
  {
   "cell_type": "code",
   "execution_count": 44,
   "id": "9e84f946",
   "metadata": {},
   "outputs": [],
   "source": [
    "#extend:\n",
    "lst1=[1,2,3,4,5,6,7]"
   ]
  },
  {
   "cell_type": "code",
   "execution_count": 45,
   "id": "9e8c9d1b",
   "metadata": {},
   "outputs": [],
   "source": [
    "lst1.extend([8,9])  #add in the list without creating nested list:"
   ]
  },
  {
   "cell_type": "code",
   "execution_count": 46,
   "id": "1652a45d",
   "metadata": {},
   "outputs": [
    {
     "data": {
      "text/plain": [
       "[1, 2, 3, 4, 5, 6, 7, 8, 9]"
      ]
     },
     "execution_count": 46,
     "metadata": {},
     "output_type": "execute_result"
    }
   ],
   "source": [
    "lst1"
   ]
  },
  {
   "cell_type": "code",
   "execution_count": 47,
   "id": "642fac68",
   "metadata": {},
   "outputs": [
    {
     "data": {
      "text/plain": [
       "45"
      ]
     },
     "execution_count": 47,
     "metadata": {},
     "output_type": "execute_result"
    }
   ],
   "source": [
    "#various operation:\n",
    "sum(lst1)"
   ]
  },
  {
   "cell_type": "code",
   "execution_count": 48,
   "id": "ea0ee3f6",
   "metadata": {},
   "outputs": [
    {
     "data": {
      "text/plain": [
       "'sourabh'"
      ]
     },
     "execution_count": 48,
     "metadata": {},
     "output_type": "execute_result"
    }
   ],
   "source": [
    "lst.pop()"
   ]
  },
  {
   "cell_type": "code",
   "execution_count": 49,
   "id": "a4dc7fa1",
   "metadata": {},
   "outputs": [
    {
     "data": {
      "text/plain": [
       "4"
      ]
     },
     "execution_count": 49,
     "metadata": {},
     "output_type": "execute_result"
    }
   ],
   "source": [
    "lst1.pop(3)"
   ]
  },
  {
   "cell_type": "code",
   "execution_count": 50,
   "id": "24a4427e",
   "metadata": {},
   "outputs": [
    {
     "data": {
      "text/plain": [
       "1"
      ]
     },
     "execution_count": 50,
     "metadata": {},
     "output_type": "execute_result"
    }
   ],
   "source": [
    "lst1.count(5)"
   ]
  },
  {
   "cell_type": "code",
   "execution_count": 54,
   "id": "64173f03",
   "metadata": {},
   "outputs": [
    {
     "data": {
      "text/plain": [
       "6"
      ]
     },
     "execution_count": 54,
     "metadata": {},
     "output_type": "execute_result"
    }
   ],
   "source": [
    "lst=[12,1,1,12,34,23]\n",
    "len(lst)"
   ]
  },
  {
   "cell_type": "code",
   "execution_count": 56,
   "id": "d4b58b96",
   "metadata": {},
   "outputs": [
    {
     "data": {
      "text/plain": [
       "1"
      ]
     },
     "execution_count": 56,
     "metadata": {},
     "output_type": "execute_result"
    }
   ],
   "source": [
    "lst.index(1,0,6)"
   ]
  },
  {
   "cell_type": "code",
   "execution_count": 57,
   "id": "059203e2",
   "metadata": {},
   "outputs": [
    {
     "data": {
      "text/plain": [
       "34"
      ]
     },
     "execution_count": 57,
     "metadata": {},
     "output_type": "execute_result"
    }
   ],
   "source": [
    "min(lst)\n",
    "max(lst)"
   ]
  },
  {
   "cell_type": "code",
   "execution_count": 58,
   "id": "8c879d26",
   "metadata": {},
   "outputs": [
    {
     "data": {
      "text/plain": [
       "[12, 1, 1, 12, 34, 23, 12, 1, 1, 12, 34, 23, 12, 1, 1, 12, 34, 23]"
      ]
     },
     "execution_count": 58,
     "metadata": {},
     "output_type": "execute_result"
    }
   ],
   "source": [
    "lst*3\n"
   ]
  },
  {
   "cell_type": "markdown",
   "id": "e9951e3f",
   "metadata": {},
   "source": [
    "# sets"
   ]
  },
  {
   "cell_type": "code",
   "execution_count": 60,
   "id": "75cafdab",
   "metadata": {},
   "outputs": [
    {
     "name": "stdout",
     "output_type": "stream",
     "text": [
      "set()\n",
      "<class 'set'>\n"
     ]
    }
   ],
   "source": [
    "set_var=set()\n",
    "print(set_var)\n",
    "print (type(set_var))"
   ]
  },
  {
   "cell_type": "code",
   "execution_count": 61,
   "id": "400df039",
   "metadata": {},
   "outputs": [
    {
     "name": "stdout",
     "output_type": "stream",
     "text": [
      "{'avererage', 'sum', 'add'}\n"
     ]
    },
    {
     "data": {
      "text/plain": [
       "set"
      ]
     },
     "execution_count": 61,
     "metadata": {},
     "output_type": "execute_result"
    }
   ],
   "source": [
    "set_var={\"avererage\",\"sum\",\"add\"}\n",
    "print(set_var)\n",
    "type(set_var)"
   ]
  },
  {
   "cell_type": "code",
   "execution_count": 62,
   "id": "67c0c7f2",
   "metadata": {},
   "outputs": [],
   "source": [
    "# set does not have index\n",
    "set_var.add(\"iron man\")"
   ]
  },
  {
   "cell_type": "code",
   "execution_count": 63,
   "id": "e5e5cf6f",
   "metadata": {},
   "outputs": [],
   "source": [
    "set1={\"hell0\",\"sourabh\",\"welcome\"}\n",
    "set2={\"welcome\",\"hello\",\"hii\"}"
   ]
  },
  {
   "cell_type": "code",
   "execution_count": 64,
   "id": "c5b73d3d",
   "metadata": {},
   "outputs": [
    {
     "data": {
      "text/plain": [
       "{'hello', 'hii'}"
      ]
     },
     "execution_count": 64,
     "metadata": {},
     "output_type": "execute_result"
    }
   ],
   "source": [
    "set2.difference(set1)"
   ]
  },
  {
   "cell_type": "code",
   "execution_count": 65,
   "id": "d9261e17",
   "metadata": {},
   "outputs": [],
   "source": [
    "set2.difference_update(set1)"
   ]
  },
  {
   "cell_type": "code",
   "execution_count": 66,
   "id": "ac9219f9",
   "metadata": {},
   "outputs": [
    {
     "name": "stdout",
     "output_type": "stream",
     "text": [
      "{'hello', 'hii'}\n"
     ]
    }
   ],
   "source": [
    "print(set2)"
   ]
  },
  {
   "cell_type": "code",
   "execution_count": 67,
   "id": "23bc8777",
   "metadata": {},
   "outputs": [
    {
     "data": {
      "text/plain": [
       "{'hell0', 'hello', 'hii', 'sourabh', 'welcome'}"
      ]
     },
     "execution_count": 67,
     "metadata": {},
     "output_type": "execute_result"
    }
   ],
   "source": [
    "set2.union(set1)"
   ]
  },
  {
   "cell_type": "code",
   "execution_count": 68,
   "id": "329681b4",
   "metadata": {},
   "outputs": [
    {
     "data": {
      "text/plain": [
       "set()"
      ]
     },
     "execution_count": 68,
     "metadata": {},
     "output_type": "execute_result"
    }
   ],
   "source": [
    "set2.intersection(set1)"
   ]
  },
  {
   "cell_type": "markdown",
   "id": "80091789",
   "metadata": {},
   "source": [
    "# dictionary:"
   ]
  },
  {
   "cell_type": "code",
   "execution_count": 69,
   "id": "f56f2a77",
   "metadata": {},
   "outputs": [],
   "source": [
    "dict={\"car1\":\"audi\",\"car2\":\"tata\",\"car3\":\"mahindra\",\"car4\":\"porshe\"}"
   ]
  },
  {
   "cell_type": "code",
   "execution_count": 71,
   "id": "4e2b30a6",
   "metadata": {},
   "outputs": [
    {
     "data": {
      "text/plain": [
       "'tata'"
      ]
     },
     "execution_count": 71,
     "metadata": {},
     "output_type": "execute_result"
    }
   ],
   "source": [
    "dict['car2']"
   ]
  },
  {
   "cell_type": "code",
   "execution_count": 72,
   "id": "aa703cac",
   "metadata": {},
   "outputs": [
    {
     "name": "stdout",
     "output_type": "stream",
     "text": [
      "car1\n",
      "car2\n",
      "car3\n",
      "car4\n"
     ]
    }
   ],
   "source": [
    "for x in dict:\n",
    "    print(x)"
   ]
  },
  {
   "cell_type": "code",
   "execution_count": 73,
   "id": "ed99dd89",
   "metadata": {},
   "outputs": [
    {
     "name": "stdout",
     "output_type": "stream",
     "text": [
      "audi\n",
      "tata\n",
      "mahindra\n",
      "porshe\n"
     ]
    }
   ],
   "source": [
    "for x in dict.values():\n",
    "    print(x)"
   ]
  },
  {
   "cell_type": "code",
   "execution_count": 75,
   "id": "caa52ed1",
   "metadata": {},
   "outputs": [
    {
     "name": "stdout",
     "output_type": "stream",
     "text": [
      "('car1', 'audi')\n",
      "('car2', 'tata')\n",
      "('car3', 'mahindra')\n",
      "('car4', 'porshe')\n"
     ]
    }
   ],
   "source": [
    "for x in dict.items():\n",
    "    print(x)"
   ]
  },
  {
   "cell_type": "code",
   "execution_count": 76,
   "id": "109bc504",
   "metadata": {},
   "outputs": [],
   "source": [
    "dict['car5']=\"maruti\""
   ]
  },
  {
   "cell_type": "code",
   "execution_count": 77,
   "id": "d2db4908",
   "metadata": {},
   "outputs": [
    {
     "data": {
      "text/plain": [
       "{'car1': 'audi',\n",
       " 'car2': 'tata',\n",
       " 'car3': 'mahindra',\n",
       " 'car4': 'porshe',\n",
       " 'car5': 'maruti'}"
      ]
     },
     "execution_count": 77,
     "metadata": {},
     "output_type": "execute_result"
    }
   ],
   "source": [
    "dict\n"
   ]
  },
  {
   "cell_type": "code",
   "execution_count": 78,
   "id": "59d23cc3",
   "metadata": {},
   "outputs": [],
   "source": [
    "# nested dictionary:\n",
    "car1model={'mercedes':1960}\n",
    "car2model={'honda':1980}\n",
    "car3model={'bmw':1970}\n",
    "cartype={\"car1\":car1model,\"car2\":car2model,\"car3\":car3model}"
   ]
  },
  {
   "cell_type": "code",
   "execution_count": 79,
   "id": "2822c478",
   "metadata": {},
   "outputs": [
    {
     "name": "stdout",
     "output_type": "stream",
     "text": [
      "{'car1': {'mercedes': 1960}, 'car2': {'honda': 1980}, 'car3': {'bmw': 1970}}\n"
     ]
    }
   ],
   "source": [
    "print(cartype)"
   ]
  },
  {
   "cell_type": "code",
   "execution_count": 80,
   "id": "8ae49471",
   "metadata": {},
   "outputs": [
    {
     "name": "stdout",
     "output_type": "stream",
     "text": [
      "{'honda': 1980}\n"
     ]
    }
   ],
   "source": [
    "#accessing the values in it:\n",
    "print(cartype['car2'])"
   ]
  },
  {
   "cell_type": "code",
   "execution_count": 81,
   "id": "774f14c6",
   "metadata": {},
   "outputs": [
    {
     "name": "stdout",
     "output_type": "stream",
     "text": [
      "1980\n"
     ]
    }
   ],
   "source": [
    "print(cartype['car2']['honda'])"
   ]
  },
  {
   "cell_type": "markdown",
   "id": "b21d5eba",
   "metadata": {},
   "source": [
    "# tuple:\n"
   ]
  },
  {
   "cell_type": "code",
   "execution_count": 82,
   "id": "bdb379ad",
   "metadata": {},
   "outputs": [],
   "source": [
    "# we can not change the value of tuple but instead\n",
    "# we can change whole tuple by assigning new value:\n",
    "tup1=(\"sourabh\",\"sourabh1\",\"sourabh2\")\n"
   ]
  },
  {
   "cell_type": "code",
   "execution_count": 83,
   "id": "6d8f64f6",
   "metadata": {},
   "outputs": [
    {
     "name": "stdout",
     "output_type": "stream",
     "text": [
      "('sourabh', 'sourabh1', 'sourabh2')\n"
     ]
    }
   ],
   "source": [
    "print(tup1)"
   ]
  },
  {
   "cell_type": "code",
   "execution_count": 88,
   "id": "91baeb43",
   "metadata": {},
   "outputs": [],
   "source": [
    "tup1=(\"sourabh1\",\"sourabh2\",\"sourabh3\",\"sourabh1\")"
   ]
  },
  {
   "cell_type": "code",
   "execution_count": 89,
   "id": "57f6ca6c",
   "metadata": {},
   "outputs": [
    {
     "data": {
      "text/plain": [
       "2"
      ]
     },
     "execution_count": 89,
     "metadata": {},
     "output_type": "execute_result"
    }
   ],
   "source": [
    "tup1.count(\"sourabh1\")"
   ]
  },
  {
   "cell_type": "code",
   "execution_count": 90,
   "id": "e081f195",
   "metadata": {},
   "outputs": [
    {
     "data": {
      "text/plain": [
       "1"
      ]
     },
     "execution_count": 90,
     "metadata": {},
     "output_type": "execute_result"
    }
   ],
   "source": [
    "tup1.index('sourabh2')"
   ]
  },
  {
   "cell_type": "code",
   "execution_count": null,
   "id": "8787260e",
   "metadata": {},
   "outputs": [],
   "source": []
  }
 ],
 "metadata": {
  "kernelspec": {
   "display_name": "Python 3 (ipykernel)",
   "language": "python",
   "name": "python3"
  },
  "language_info": {
   "codemirror_mode": {
    "name": "ipython",
    "version": 3
   },
   "file_extension": ".py",
   "mimetype": "text/x-python",
   "name": "python",
   "nbconvert_exporter": "python",
   "pygments_lexer": "ipython3",
   "version": "3.10.9"
  }
 },
 "nbformat": 4,
 "nbformat_minor": 5
}
