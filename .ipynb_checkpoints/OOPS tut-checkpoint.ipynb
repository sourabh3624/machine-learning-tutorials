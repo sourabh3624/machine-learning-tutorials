{
 "cells": [
  {
   "cell_type": "code",
   "execution_count": 1,
   "id": "eca3ef45",
   "metadata": {},
   "outputs": [],
   "source": [
    "# old approach for the oops :\n",
    "class Car:\n",
    "    pass"
   ]
  },
  {
   "cell_type": "code",
   "execution_count": 2,
   "id": "11b932e1",
   "metadata": {},
   "outputs": [],
   "source": [
    "car1=Car()"
   ]
  },
  {
   "cell_type": "code",
   "execution_count": 3,
   "id": "4707744e",
   "metadata": {},
   "outputs": [
    {
     "data": {
      "text/plain": [
       "<__main__.Car at 0x24bfc6b3f40>"
      ]
     },
     "execution_count": 3,
     "metadata": {},
     "output_type": "execute_result"
    }
   ],
   "source": [
    "car1\n"
   ]
  },
  {
   "cell_type": "code",
   "execution_count": 4,
   "id": "aa3b10d7",
   "metadata": {},
   "outputs": [],
   "source": [
    "car1.door=5\n",
    "car1.windows=4"
   ]
  },
  {
   "cell_type": "code",
   "execution_count": 5,
   "id": "f50f4673",
   "metadata": {},
   "outputs": [
    {
     "name": "stdout",
     "output_type": "stream",
     "text": [
      "4\n"
     ]
    }
   ],
   "source": [
    "print(car1.windows)"
   ]
  },
  {
   "cell_type": "code",
   "execution_count": 6,
   "id": "56b266e5",
   "metadata": {},
   "outputs": [],
   "source": [
    "car2=Car()"
   ]
  },
  {
   "cell_type": "code",
   "execution_count": 7,
   "id": "5d786a1a",
   "metadata": {},
   "outputs": [],
   "source": [
    "car2.door=6\n",
    "car2.windows=5"
   ]
  },
  {
   "cell_type": "code",
   "execution_count": 8,
   "id": "99176fa8",
   "metadata": {},
   "outputs": [
    {
     "name": "stdout",
     "output_type": "stream",
     "text": [
      "5\n"
     ]
    }
   ],
   "source": [
    "print(car2.windows)"
   ]
  },
  {
   "cell_type": "code",
   "execution_count": 9,
   "id": "8439195d",
   "metadata": {},
   "outputs": [],
   "source": [
    "#above method can be also : define as:\n",
    "# simple oops example:\n",
    "\n",
    "class car:\n",
    "    def __init__(self,carname,model,engine_type):\n",
    "        self.carname=carname\n",
    "        self.model=model\n",
    "        self.engine_type=engine_type\n",
    "    \n",
    "    def self_driving(self):\n",
    "        return \"this  car {} is of {} car\".format(self.carname,self.engine_type)\n",
    "    \n",
    "        "
   ]
  },
  {
   "cell_type": "code",
   "execution_count": 10,
   "id": "b9c6e25a",
   "metadata": {},
   "outputs": [],
   "source": [
    "car1=car('maruti','swift',\"petrol\")\n",
    "car2=car('tata','nexon',\"ev\")"
   ]
  },
  {
   "cell_type": "code",
   "execution_count": 11,
   "id": "299381bd",
   "metadata": {},
   "outputs": [
    {
     "name": "stdout",
     "output_type": "stream",
     "text": [
      "swift\n"
     ]
    }
   ],
   "source": [
    "print(car1.model)"
   ]
  },
  {
   "cell_type": "code",
   "execution_count": 12,
   "id": "993b10dd",
   "metadata": {},
   "outputs": [
    {
     "name": "stdout",
     "output_type": "stream",
     "text": [
      "tata\n"
     ]
    }
   ],
   "source": [
    "print(car2.carname)"
   ]
  },
  {
   "cell_type": "code",
   "execution_count": 13,
   "id": "6a9202a8",
   "metadata": {},
   "outputs": [
    {
     "data": {
      "text/plain": [
       "'this  car tata is of ev car'"
      ]
     },
     "execution_count": 13,
     "metadata": {},
     "output_type": "execute_result"
    }
   ],
   "source": [
    "car2.self_driving()"
   ]
  },
  {
   "cell_type": "markdown",
   "id": "045d7719",
   "metadata": {},
   "source": [
    "# Exceptional handling:"
   ]
  },
  {
   "cell_type": "code",
   "execution_count": 14,
   "id": "c60bf899",
   "metadata": {},
   "outputs": [
    {
     "name": "stdout",
     "output_type": "stream",
     "text": [
      "some problem has occur\n"
     ]
    }
   ],
   "source": [
    "try:\n",
    "    ##code block where exception can occur\n",
    "    a=b\n",
    "except:\n",
    "    print(\"some problem has occur\")"
   ]
  },
  {
   "cell_type": "code",
   "execution_count": 15,
   "id": "2bb2021c",
   "metadata": {},
   "outputs": [
    {
     "name": "stdout",
     "output_type": "stream",
     "text": [
      "enter the value of a:\n",
      "invalid literal for int() with base 10: ''\n",
      "the excecution is done\n"
     ]
    }
   ],
   "source": [
    "\n",
    "try:\n",
    "    a=int(input(\"enter the value of a:\"))\n",
    "    b=int(input(\"enter the value of b:\"))\n",
    "    c=a/b\n",
    "    d=a+b\n",
    "    e=a*b\n",
    "except NameError:\n",
    "    print(\"the user has not define the variable:\")\n",
    "except TypeError:\n",
    "    print(\"try to make datatype similar:\")\n",
    "except ZeroDivisionError:\n",
    "    print(\"provide number greater than 0:\")\n",
    "except Exception as ex:\n",
    "    print(ex)\n",
    "else:\n",
    "    print(c)\n",
    "    print(d)\n",
    "    print(e)\n",
    "finally:\n",
    "    print(\"the excecution is done\")\n",
    "    "
   ]
  },
  {
   "cell_type": "markdown",
   "id": "94462b41",
   "metadata": {},
   "source": [
    "# custom exception:"
   ]
  },
  {
   "cell_type": "code",
   "execution_count": 16,
   "id": "dee274b5",
   "metadata": {},
   "outputs": [],
   "source": [
    "class Error(Exception):\n",
    "    pass\n",
    "class dobException(Error):\n",
    "    pass\n",
    "class Customgeneric(Error):\n",
    "    pass"
   ]
  },
  {
   "cell_type": "code",
   "execution_count": null,
   "id": "8594494a",
   "metadata": {},
   "outputs": [],
   "source": [
    "year=int(input(\"enter the year of birth: \"))\n",
    "age=2023-year\n",
    "try:\n",
    "    if age<=30 & age>20:\n",
    "        print(\"you are eligible:\")\n",
    "    else:\n",
    "        raise dobException\n",
    "except dobException:\n",
    "    print(\"you are not eligible:\")"
   ]
  },
  {
   "cell_type": "markdown",
   "id": "70eb4d9a",
   "metadata": {},
   "source": [
    "# oops:public,protected,private:"
   ]
  },
  {
   "cell_type": "code",
   "execution_count": 18,
   "id": "0dcd45a4",
   "metadata": {},
   "outputs": [],
   "source": [
    "## all the class variable are public\n",
    "class car:\n",
    "    def __init__(self,carname,model,engine_type):\n",
    "        self.carname=carname\n",
    "        self.model=model\n",
    "        self.engine_type=engine_type"
   ]
  },
  {
   "cell_type": "code",
   "execution_count": 19,
   "id": "01d259bc",
   "metadata": {},
   "outputs": [],
   "source": [
    "car1=car(\"maruti\",2011,\"diesel\")"
   ]
  },
  {
   "cell_type": "code",
   "execution_count": 20,
   "id": "ba3d93f6",
   "metadata": {},
   "outputs": [
    {
     "data": {
      "text/plain": [
       "['__class__',\n",
       " '__delattr__',\n",
       " '__dict__',\n",
       " '__dir__',\n",
       " '__doc__',\n",
       " '__eq__',\n",
       " '__format__',\n",
       " '__ge__',\n",
       " '__getattribute__',\n",
       " '__gt__',\n",
       " '__hash__',\n",
       " '__init__',\n",
       " '__init_subclass__',\n",
       " '__le__',\n",
       " '__lt__',\n",
       " '__module__',\n",
       " '__ne__',\n",
       " '__new__',\n",
       " '__reduce__',\n",
       " '__reduce_ex__',\n",
       " '__repr__',\n",
       " '__setattr__',\n",
       " '__sizeof__',\n",
       " '__str__',\n",
       " '__subclasshook__',\n",
       " '__weakref__',\n",
       " 'carname',\n",
       " 'engine_type',\n",
       " 'model']"
      ]
     },
     "execution_count": 20,
     "metadata": {},
     "output_type": "execute_result"
    }
   ],
   "source": [
    "dir(car1)"
   ]
  },
  {
   "cell_type": "code",
   "execution_count": 21,
   "id": "8bb68452",
   "metadata": {},
   "outputs": [],
   "source": [
    "## all the class variable are protected \n",
    "class car:\n",
    "    def __init__(self,carname,model,engine_type):\n",
    "        self._carname=carname\n",
    "        self._model=model\n",
    "        self._engine_type=engine_type"
   ]
  },
  {
   "cell_type": "code",
   "execution_count": 22,
   "id": "43fa1487",
   "metadata": {},
   "outputs": [],
   "source": [
    "class truck(car):\n",
    "    def __init__(self,carname,model,engine_type,horsepower):\n",
    "        super().__init__(carname,model,engine_type)\n",
    "        self.horsepower=horsepower"
   ]
  },
  {
   "cell_type": "code",
   "execution_count": 23,
   "id": "dfb73ead",
   "metadata": {},
   "outputs": [
    {
     "data": {
      "text/plain": [
       "['__class__',\n",
       " '__delattr__',\n",
       " '__dict__',\n",
       " '__dir__',\n",
       " '__doc__',\n",
       " '__eq__',\n",
       " '__format__',\n",
       " '__ge__',\n",
       " '__getattribute__',\n",
       " '__gt__',\n",
       " '__hash__',\n",
       " '__init__',\n",
       " '__init_subclass__',\n",
       " '__le__',\n",
       " '__lt__',\n",
       " '__module__',\n",
       " '__ne__',\n",
       " '__new__',\n",
       " '__reduce__',\n",
       " '__reduce_ex__',\n",
       " '__repr__',\n",
       " '__setattr__',\n",
       " '__sizeof__',\n",
       " '__str__',\n",
       " '__subclasshook__',\n",
       " '__weakref__',\n",
       " '_carname',\n",
       " '_engine_type',\n",
       " '_model',\n",
       " 'horsepower']"
      ]
     },
     "execution_count": 23,
     "metadata": {},
     "output_type": "execute_result"
    }
   ],
   "source": [
    "truck1=truck(\"tata\",2020,\"diesel\",\"4000rpm\")\n",
    "dir(truck1)"
   ]
  },
  {
   "cell_type": "code",
   "execution_count": 24,
   "id": "22fda791",
   "metadata": {},
   "outputs": [],
   "source": [
    "truck1._model=2023"
   ]
  },
  {
   "cell_type": "code",
   "execution_count": 25,
   "id": "cc31fa7a",
   "metadata": {},
   "outputs": [
    {
     "data": {
      "text/plain": [
       "2023"
      ]
     },
     "execution_count": 25,
     "metadata": {},
     "output_type": "execute_result"
    }
   ],
   "source": [
    "truck1._model"
   ]
  },
  {
   "cell_type": "code",
   "execution_count": 26,
   "id": "045fafea",
   "metadata": {},
   "outputs": [],
   "source": [
    "##private veriable:\n",
    "class car:\n",
    "    def __init__(self,carname,model,engine_type):\n",
    "        self.__carname=carname\n",
    "        self.__model=model\n",
    "        self.__engine_type=engine_type"
   ]
  },
  {
   "cell_type": "code",
   "execution_count": 27,
   "id": "55426098",
   "metadata": {},
   "outputs": [],
   "source": [
    "car1=car(\"maruti\",2011,\"diesel\")"
   ]
  },
  {
   "cell_type": "code",
   "execution_count": 28,
   "id": "39d1348a",
   "metadata": {},
   "outputs": [
    {
     "data": {
      "text/plain": [
       "['__class__',\n",
       " '__delattr__',\n",
       " '__dict__',\n",
       " '__dir__',\n",
       " '__doc__',\n",
       " '__eq__',\n",
       " '__format__',\n",
       " '__ge__',\n",
       " '__getattribute__',\n",
       " '__gt__',\n",
       " '__hash__',\n",
       " '__init__',\n",
       " '__init_subclass__',\n",
       " '__le__',\n",
       " '__lt__',\n",
       " '__module__',\n",
       " '__ne__',\n",
       " '__new__',\n",
       " '__reduce__',\n",
       " '__reduce_ex__',\n",
       " '__repr__',\n",
       " '__setattr__',\n",
       " '__sizeof__',\n",
       " '__str__',\n",
       " '__subclasshook__',\n",
       " '__weakref__',\n",
       " '_car__carname',\n",
       " '_car__engine_type',\n",
       " '_car__model']"
      ]
     },
     "execution_count": 28,
     "metadata": {},
     "output_type": "execute_result"
    }
   ],
   "source": [
    "dir(car1)\n"
   ]
  },
  {
   "cell_type": "code",
   "execution_count": 29,
   "id": "a434ca4d",
   "metadata": {},
   "outputs": [],
   "source": [
    "#although we can modified it:\n",
    "car1._car__carname=\"mahindra\""
   ]
  },
  {
   "cell_type": "raw",
   "id": "d4ff52c4",
   "metadata": {},
   "source": [
    "car1._car__carname"
   ]
  },
  {
   "cell_type": "markdown",
   "id": "5926694d",
   "metadata": {},
   "source": [
    "# inheritance:"
   ]
  },
  {
   "cell_type": "code",
   "execution_count": 30,
   "id": "7f3109c6",
   "metadata": {},
   "outputs": [],
   "source": [
    "class Car:\n",
    "    def __init__(self,carname,model,engine_type):\n",
    "        self.carname=carname\n",
    "        self.model=model\n",
    "        self.engine_type=engine_type\n",
    "    def drive(self):\n",
    "        print(\"the persion drive the car\")\n"
   ]
  },
  {
   "cell_type": "code",
   "execution_count": 31,
   "id": "22cbf97e",
   "metadata": {},
   "outputs": [],
   "source": [
    "car1=Car(\"maruti\",2011,\"diesel\")\n",
    "\n"
   ]
  },
  {
   "cell_type": "code",
   "execution_count": 32,
   "id": "56c7f913",
   "metadata": {},
   "outputs": [
    {
     "data": {
      "text/plain": [
       "2011"
      ]
     },
     "execution_count": 32,
     "metadata": {},
     "output_type": "execute_result"
    }
   ],
   "source": [
    "car1.model"
   ]
  },
  {
   "cell_type": "code",
   "execution_count": 33,
   "id": "85d78938",
   "metadata": {},
   "outputs": [
    {
     "name": "stdout",
     "output_type": "stream",
     "text": [
      "the persion drive the car\n"
     ]
    }
   ],
   "source": [
    "car1.drive()"
   ]
  },
  {
   "cell_type": "code",
   "execution_count": 34,
   "id": "08a032f6",
   "metadata": {},
   "outputs": [],
   "source": [
    "class LCar(Car):\n",
    "    def __init__(self,carname,model,engine_type,automatic):\n",
    "        super().__init__(carname,model,engine_type)\n",
    "        self.automatic=automatic\n",
    "    def secondhand(self):\n",
    "        print(\"yes you can purchase it:\")\n",
    "    "
   ]
  },
  {
   "cell_type": "code",
   "execution_count": 35,
   "id": "0e247921",
   "metadata": {},
   "outputs": [],
   "source": [
    "car1=LCar(\"audi\",2024,'cng',\"yes\")"
   ]
  },
  {
   "cell_type": "code",
   "execution_count": 36,
   "id": "3be67969",
   "metadata": {},
   "outputs": [
    {
     "data": {
      "text/plain": [
       "'audi'"
      ]
     },
     "execution_count": 36,
     "metadata": {},
     "output_type": "execute_result"
    }
   ],
   "source": [
    "car1.carname"
   ]
  },
  {
   "cell_type": "code",
   "execution_count": 37,
   "id": "4a47ede4",
   "metadata": {},
   "outputs": [
    {
     "data": {
      "text/plain": [
       "'yes'"
      ]
     },
     "execution_count": 37,
     "metadata": {},
     "output_type": "execute_result"
    }
   ],
   "source": [
    "car1.automatic"
   ]
  },
  {
   "cell_type": "raw",
   "id": "a57d33a6",
   "metadata": {},
   "source": [
    "dir(car1)"
   ]
  },
  {
   "cell_type": "code",
   "execution_count": null,
   "id": "7e0a67ff",
   "metadata": {},
   "outputs": [],
   "source": []
  }
 ],
 "metadata": {
  "kernelspec": {
   "display_name": "Python 3 (ipykernel)",
   "language": "python",
   "name": "python3"
  },
  "language_info": {
   "codemirror_mode": {
    "name": "ipython",
    "version": 3
   },
   "file_extension": ".py",
   "mimetype": "text/x-python",
   "name": "python",
   "nbconvert_exporter": "python",
   "pygments_lexer": "ipython3",
   "version": "3.10.9"
  }
 },
 "nbformat": 4,
 "nbformat_minor": 5
}
