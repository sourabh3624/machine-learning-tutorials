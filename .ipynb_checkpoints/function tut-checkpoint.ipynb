{
 "cells": [
  {
   "cell_type": "markdown",
   "id": "1faf1a33",
   "metadata": {},
   "source": [
    "# function:\n"
   ]
  },
  {
   "cell_type": "code",
   "execution_count": 1,
   "id": "73f59b34",
   "metadata": {},
   "outputs": [
    {
     "name": "stdout",
     "output_type": "stream",
     "text": [
      "the num is even\n"
     ]
    }
   ],
   "source": [
    "num=24\n",
    "if num%2==0:\n",
    "    print(\"the num is even\")\n",
    "else:\n",
    "    print(\"the no is not even\")"
   ]
  },
  {
   "cell_type": "code",
   "execution_count": 3,
   "id": "e5da8458",
   "metadata": {},
   "outputs": [],
   "source": [
    "def even_num(num):\n",
    "    if num%2==0:\n",
    "        print(\"the num is even\")\n",
    "    else:\n",
    "        print(\"the no is not even\")\n",
    "    "
   ]
  },
  {
   "cell_type": "code",
   "execution_count": 4,
   "id": "87a2172c",
   "metadata": {},
   "outputs": [
    {
     "name": "stdout",
     "output_type": "stream",
     "text": [
      "the num is even\n"
     ]
    }
   ],
   "source": [
    "even_num(20)"
   ]
  },
  {
   "cell_type": "code",
   "execution_count": 6,
   "id": "8a88f0e1",
   "metadata": {},
   "outputs": [],
   "source": [
    "#print vs return \n",
    "def hello_world():\n",
    "    print(\"hello world\")"
   ]
  },
  {
   "cell_type": "code",
   "execution_count": 7,
   "id": "f0b648ee",
   "metadata": {},
   "outputs": [
    {
     "name": "stdout",
     "output_type": "stream",
     "text": [
      "hello world\n"
     ]
    }
   ],
   "source": [
    "hello_world()"
   ]
  },
  {
   "cell_type": "code",
   "execution_count": 8,
   "id": "8727c82f",
   "metadata": {},
   "outputs": [
    {
     "name": "stdout",
     "output_type": "stream",
     "text": [
      "hello world\n"
     ]
    }
   ],
   "source": [
    "val=hello_world()"
   ]
  },
  {
   "cell_type": "code",
   "execution_count": 9,
   "id": "67097a22",
   "metadata": {},
   "outputs": [
    {
     "name": "stdout",
     "output_type": "stream",
     "text": [
      "None\n"
     ]
    }
   ],
   "source": [
    "# here value will be return is none\n",
    "print(val)"
   ]
  },
  {
   "cell_type": "code",
   "execution_count": 10,
   "id": "805b5b3a",
   "metadata": {},
   "outputs": [],
   "source": [
    "def hello_world():\n",
    "    return (\"hello world\")"
   ]
  },
  {
   "cell_type": "code",
   "execution_count": 11,
   "id": "b923eaad",
   "metadata": {},
   "outputs": [
    {
     "name": "stdout",
     "output_type": "stream",
     "text": [
      "hello world\n"
     ]
    }
   ],
   "source": [
    "# here it will gives value of it not the return none here:\n",
    "val=hello_world()\n",
    "print(val)"
   ]
  },
  {
   "cell_type": "code",
   "execution_count": 13,
   "id": "4daeb3df",
   "metadata": {},
   "outputs": [],
   "source": [
    "# name is positional argument and age is my keyword argument:\n",
    "\n",
    "def hello(name,age=25):\n",
    "    print(\"my name is {} and age is{}\".format(name,age))"
   ]
  },
  {
   "cell_type": "code",
   "execution_count": 14,
   "id": "a90b96f3",
   "metadata": {},
   "outputs": [
    {
     "name": "stdout",
     "output_type": "stream",
     "text": [
      "my name is sourabh bainsla and age is25\n"
     ]
    }
   ],
   "source": [
    "hello('sourabh bainsla')"
   ]
  },
  {
   "cell_type": "code",
   "execution_count": 2,
   "id": "44a2432f",
   "metadata": {},
   "outputs": [],
   "source": [
    "def hello(*args,**kwargs):\n",
    "    print(args)\n",
    "    print(kwargs)"
   ]
  },
  {
   "cell_type": "code",
   "execution_count": 3,
   "id": "e0f8a39b",
   "metadata": {},
   "outputs": [
    {
     "name": "stdout",
     "output_type": "stream",
     "text": [
      "('sourabh', 'bainsla')\n",
      "{'age': 25, 'dob': 1998}\n"
     ]
    }
   ],
   "source": [
    "hello('sourabh',\"bainsla\",age=25,dob=1998)"
   ]
  },
  {
   "cell_type": "code",
   "execution_count": 4,
   "id": "04b10cc2",
   "metadata": {},
   "outputs": [],
   "source": [
    "lst=['sourabh',\"bainsla\"]\n",
    "dict={ 'age' : 25,'dob' : 1998}"
   ]
  },
  {
   "cell_type": "code",
   "execution_count": 5,
   "id": "29c7d562",
   "metadata": {},
   "outputs": [
    {
     "name": "stdout",
     "output_type": "stream",
     "text": [
      "('sourabh', 'bainsla')\n",
      "{'age': 25, 'dob': 1998}\n"
     ]
    }
   ],
   "source": [
    "hello(*lst,**dict)"
   ]
  },
  {
   "cell_type": "code",
   "execution_count": 6,
   "id": "8948e718",
   "metadata": {},
   "outputs": [],
   "source": [
    "lst=[1,232,34,3,32,45,5,78,10]"
   ]
  },
  {
   "cell_type": "code",
   "execution_count": 7,
   "id": "bca1eea6",
   "metadata": {},
   "outputs": [],
   "source": [
    "def evenoddsum(lst):\n",
    "    even_sum=0\n",
    "    odd_sum=0\n",
    "    for i in lst:\n",
    "        if i%2==0:\n",
    "            even_sum=even_sum+i\n",
    "        else:\n",
    "            odd_sum=odd_sum+i\n",
    "    return even_sum,odd_sum"
   ]
  },
  {
   "cell_type": "code",
   "execution_count": 8,
   "id": "66032353",
   "metadata": {},
   "outputs": [
    {
     "data": {
      "text/plain": [
       "(386, 54)"
      ]
     },
     "execution_count": 8,
     "metadata": {},
     "output_type": "execute_result"
    }
   ],
   "source": [
    "evenoddsum(lst)"
   ]
  },
  {
   "cell_type": "markdown",
   "id": "7167786b",
   "metadata": {},
   "source": [
    "# map:\n"
   ]
  },
  {
   "cell_type": "code",
   "execution_count": 9,
   "id": "1ff0feff",
   "metadata": {},
   "outputs": [],
   "source": [
    "def even_or_odd(num):\n",
    "    if num%2==0:\n",
    "        return\"the number {} is even\".format(num)\n",
    "    else:\n",
    "        return\"the number {} is odd\".format(num)\n",
    "        "
   ]
  },
  {
   "cell_type": "code",
   "execution_count": 10,
   "id": "593eecf6",
   "metadata": {},
   "outputs": [
    {
     "data": {
      "text/plain": [
       "'the number 35 is odd'"
      ]
     },
     "execution_count": 10,
     "metadata": {},
     "output_type": "execute_result"
    }
   ],
   "source": [
    "even_or_odd(35)"
   ]
  },
  {
   "cell_type": "code",
   "execution_count": 11,
   "id": "8b63e218",
   "metadata": {},
   "outputs": [],
   "source": [
    "lst=[1,232,34,3,32,45,5,78,10]"
   ]
  },
  {
   "cell_type": "code",
   "execution_count": 13,
   "id": "e496dbb3",
   "metadata": {},
   "outputs": [
    {
     "data": {
      "text/plain": [
       "['the number 1 is odd',\n",
       " 'the number 232 is even',\n",
       " 'the number 34 is even',\n",
       " 'the number 3 is odd',\n",
       " 'the number 32 is even',\n",
       " 'the number 45 is odd',\n",
       " 'the number 5 is odd',\n",
       " 'the number 78 is even',\n",
       " 'the number 10 is even']"
      ]
     },
     "execution_count": 13,
     "metadata": {},
     "output_type": "execute_result"
    }
   ],
   "source": [
    "#map(function,iterationon which)\n",
    "# reduce the work load for doing for loop for all: \n",
    "\n",
    "list(map(even_or_odd,lst))"
   ]
  },
  {
   "cell_type": "markdown",
   "id": "591bb5f1",
   "metadata": {},
   "source": [
    "# lambda function:"
   ]
  },
  {
   "cell_type": "code",
   "execution_count": 14,
   "id": "06e278a0",
   "metadata": {},
   "outputs": [],
   "source": [
    "# it is basically an anonymous futn: a futn with no name:\n",
    "def addition(a,b):\n",
    "    return a+b"
   ]
  },
  {
   "cell_type": "code",
   "execution_count": 15,
   "id": "81ed926e",
   "metadata": {},
   "outputs": [
    {
     "data": {
      "text/plain": [
       "88"
      ]
     },
     "execution_count": 15,
     "metadata": {},
     "output_type": "execute_result"
    }
   ],
   "source": [
    "addition(34,54)"
   ]
  },
  {
   "cell_type": "code",
   "execution_count": 36,
   "id": "98f5e3fc",
   "metadata": {},
   "outputs": [],
   "source": [
    "#using the same with lambda futn\n",
    "# lambda= futn name=lambda valriable,operationalfut define\n",
    "#use when only return has one operational futN not more than one:"
   ]
  },
  {
   "cell_type": "code",
   "execution_count": 37,
   "id": "0b9b1ff7",
   "metadata": {},
   "outputs": [],
   "source": [
    "addition=lambda a,b:a+b"
   ]
  },
  {
   "cell_type": "code",
   "execution_count": 38,
   "id": "a8cf38ec",
   "metadata": {},
   "outputs": [
    {
     "data": {
      "text/plain": [
       "68"
      ]
     },
     "execution_count": 38,
     "metadata": {},
     "output_type": "execute_result"
    }
   ],
   "source": [
    "addition(23,45)"
   ]
  },
  {
   "cell_type": "code",
   "execution_count": 39,
   "id": "3474953e",
   "metadata": {},
   "outputs": [],
   "source": [
    "def even(num):\n",
    "    if num%2==0:\n",
    "        return True\n",
    "    else:\n",
    "        return False"
   ]
  },
  {
   "cell_type": "code",
   "execution_count": 40,
   "id": "cc99bd69",
   "metadata": {},
   "outputs": [
    {
     "data": {
      "text/plain": [
       "False"
      ]
     },
     "execution_count": 40,
     "metadata": {},
     "output_type": "execute_result"
    }
   ],
   "source": [
    "even(35)"
   ]
  },
  {
   "cell_type": "code",
   "execution_count": 41,
   "id": "ecf478ae",
   "metadata": {},
   "outputs": [],
   "source": [
    "even=lambda a:a%2==0"
   ]
  },
  {
   "cell_type": "code",
   "execution_count": 42,
   "id": "d9b8b58a",
   "metadata": {},
   "outputs": [
    {
     "data": {
      "text/plain": [
       "False"
      ]
     },
     "execution_count": 42,
     "metadata": {},
     "output_type": "execute_result"
    }
   ],
   "source": [
    "even(23)"
   ]
  },
  {
   "cell_type": "code",
   "execution_count": 43,
   "id": "bc55751e",
   "metadata": {},
   "outputs": [],
   "source": [
    "addition=lambda a,b,c:a+b+c"
   ]
  },
  {
   "cell_type": "code",
   "execution_count": 44,
   "id": "0610846e",
   "metadata": {},
   "outputs": [
    {
     "data": {
      "text/plain": [
       "144"
      ]
     },
     "execution_count": 44,
     "metadata": {},
     "output_type": "execute_result"
    }
   ],
   "source": [
    "addition(23,54,67)"
   ]
  },
  {
   "cell_type": "code",
   "execution_count": null,
   "id": "3622ab1c",
   "metadata": {},
   "outputs": [],
   "source": []
  }
 ],
 "metadata": {
  "kernelspec": {
   "display_name": "Python 3 (ipykernel)",
   "language": "python",
   "name": "python3"
  },
  "language_info": {
   "codemirror_mode": {
    "name": "ipython",
    "version": 3
   },
   "file_extension": ".py",
   "mimetype": "text/x-python",
   "name": "python",
   "nbconvert_exporter": "python",
   "pygments_lexer": "ipython3",
   "version": "3.10.9"
  }
 },
 "nbformat": 4,
 "nbformat_minor": 5
}
