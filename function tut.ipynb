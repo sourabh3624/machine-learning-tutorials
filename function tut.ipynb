{
 "cells": [
  {
   "cell_type": "markdown",
   "id": "70a4db64",
   "metadata": {},
   "source": [
    "# function:\n"
   ]
  },
  {
   "cell_type": "code",
   "execution_count": 1,
   "id": "b2093702",
   "metadata": {},
   "outputs": [
    {
     "name": "stdout",
     "output_type": "stream",
     "text": [
      "the num is even\n"
     ]
    }
   ],
   "source": [
    "num=24\n",
    "if num%2==0:\n",
    "    print(\"the num is even\")\n",
    "else:\n",
    "    print(\"the no is not even\")"
   ]
  },
  {
   "cell_type": "code",
   "execution_count": 3,
   "id": "622fba65",
   "metadata": {},
   "outputs": [],
   "source": [
    "def even_num(num):\n",
    "    if num%2==0:\n",
    "        print(\"the num is even\")\n",
    "    else:\n",
    "        print(\"the no is not even\")\n",
    "    "
   ]
  },
  {
   "cell_type": "code",
   "execution_count": 4,
   "id": "388ddc8f",
   "metadata": {},
   "outputs": [
    {
     "name": "stdout",
     "output_type": "stream",
     "text": [
      "the num is even\n"
     ]
    }
   ],
   "source": [
    "even_num(20)"
   ]
  },
  {
   "cell_type": "code",
   "execution_count": 6,
   "id": "e17a8cb1",
   "metadata": {},
   "outputs": [],
   "source": [
    "#print vs return \n",
    "def hello_world():\n",
    "    print(\"hello world\")"
   ]
  },
  {
   "cell_type": "code",
   "execution_count": 7,
   "id": "2a2217cd",
   "metadata": {},
   "outputs": [
    {
     "name": "stdout",
     "output_type": "stream",
     "text": [
      "hello world\n"
     ]
    }
   ],
   "source": [
    "hello_world()"
   ]
  },
  {
   "cell_type": "code",
   "execution_count": 8,
   "id": "6e616b20",
   "metadata": {},
   "outputs": [
    {
     "name": "stdout",
     "output_type": "stream",
     "text": [
      "hello world\n"
     ]
    }
   ],
   "source": [
    "val=hello_world()"
   ]
  },
  {
   "cell_type": "code",
   "execution_count": 9,
   "id": "9fd75df5",
   "metadata": {},
   "outputs": [
    {
     "name": "stdout",
     "output_type": "stream",
     "text": [
      "None\n"
     ]
    }
   ],
   "source": [
    "# here value will be return is none\n",
    "print(val)"
   ]
  },
  {
   "cell_type": "code",
   "execution_count": 10,
   "id": "1d043346",
   "metadata": {},
   "outputs": [],
   "source": [
    "def hello_world():\n",
    "    return (\"hello world\")"
   ]
  },
  {
   "cell_type": "code",
   "execution_count": 11,
   "id": "4822f570",
   "metadata": {},
   "outputs": [
    {
     "name": "stdout",
     "output_type": "stream",
     "text": [
      "hello world\n"
     ]
    }
   ],
   "source": [
    "# here it will gives value of it not the return none here:\n",
    "val=hello_world()\n",
    "print(val)"
   ]
  },
  {
   "cell_type": "code",
   "execution_count": 13,
   "id": "e583693e",
   "metadata": {},
   "outputs": [],
   "source": [
    "# name is positional argument and age is my keyword argument:\n",
    "\n",
    "def hello(name,age=25):\n",
    "    print(\"my name is {} and age is{}\".format(name,age))"
   ]
  },
  {
   "cell_type": "code",
   "execution_count": 14,
   "id": "f552e5e0",
   "metadata": {},
   "outputs": [
    {
     "name": "stdout",
     "output_type": "stream",
     "text": [
      "my name is sourabh bainsla and age is25\n"
     ]
    }
   ],
   "source": [
    "hello('sourabh bainsla')"
   ]
  },
  {
   "cell_type": "code",
   "execution_count": 2,
   "id": "1de6b3f5",
   "metadata": {},
   "outputs": [],
   "source": [
    "def hello(*args,**kwargs):\n",
    "    print(args)\n",
    "    print(kwargs)"
   ]
  },
  {
   "cell_type": "code",
   "execution_count": 3,
   "id": "d8782c2f",
   "metadata": {},
   "outputs": [
    {
     "name": "stdout",
     "output_type": "stream",
     "text": [
      "('sourabh', 'bainsla')\n",
      "{'age': 25, 'dob': 1998}\n"
     ]
    }
   ],
   "source": [
    "hello('sourabh',\"bainsla\",age=25,dob=1998)"
   ]
  },
  {
   "cell_type": "code",
   "execution_count": 4,
   "id": "9343f370",
   "metadata": {},
   "outputs": [],
   "source": [
    "lst=['sourabh',\"bainsla\"]\n",
    "dict={ 'age' : 25,'dob' : 1998}"
   ]
  },
  {
   "cell_type": "code",
   "execution_count": 5,
   "id": "224cd15b",
   "metadata": {},
   "outputs": [
    {
     "name": "stdout",
     "output_type": "stream",
     "text": [
      "('sourabh', 'bainsla')\n",
      "{'age': 25, 'dob': 1998}\n"
     ]
    }
   ],
   "source": [
    "hello(*lst,**dict)"
   ]
  },
  {
   "cell_type": "code",
   "execution_count": 6,
   "id": "48ba5113",
   "metadata": {},
   "outputs": [],
   "source": [
    "lst=[1,232,34,3,32,45,5,78,10]"
   ]
  },
  {
   "cell_type": "code",
   "execution_count": 7,
   "id": "7a3fc7a4",
   "metadata": {},
   "outputs": [],
   "source": [
    "def evenoddsum(lst):\n",
    "    even_sum=0\n",
    "    odd_sum=0\n",
    "    for i in lst:\n",
    "        if i%2==0:\n",
    "            even_sum=even_sum+i\n",
    "        else:\n",
    "            odd_sum=odd_sum+i\n",
    "    return even_sum,odd_sum"
   ]
  },
  {
   "cell_type": "code",
   "execution_count": 8,
   "id": "7c87a0b9",
   "metadata": {},
   "outputs": [
    {
     "data": {
      "text/plain": [
       "(386, 54)"
      ]
     },
     "execution_count": 8,
     "metadata": {},
     "output_type": "execute_result"
    }
   ],
   "source": [
    "evenoddsum(lst)"
   ]
  },
  {
   "cell_type": "markdown",
   "id": "70c7bb34",
   "metadata": {},
   "source": [
    "# map:\n"
   ]
  },
  {
   "cell_type": "code",
   "execution_count": 9,
   "id": "e328aa75",
   "metadata": {},
   "outputs": [],
   "source": [
    "def even_or_odd(num):\n",
    "    if num%2==0:\n",
    "        return\"the number {} is even\".format(num)\n",
    "    else:\n",
    "        return\"the number {} is odd\".format(num)\n",
    "        "
   ]
  },
  {
   "cell_type": "code",
   "execution_count": 10,
   "id": "0ef865d3",
   "metadata": {},
   "outputs": [
    {
     "data": {
      "text/plain": [
       "'the number 35 is odd'"
      ]
     },
     "execution_count": 10,
     "metadata": {},
     "output_type": "execute_result"
    }
   ],
   "source": [
    "even_or_odd(35)"
   ]
  },
  {
   "cell_type": "code",
   "execution_count": 11,
   "id": "8ead6402",
   "metadata": {},
   "outputs": [],
   "source": [
    "lst=[1,232,34,3,32,45,5,78,10]"
   ]
  },
  {
   "cell_type": "code",
   "execution_count": 13,
   "id": "05b20f5f",
   "metadata": {},
   "outputs": [
    {
     "data": {
      "text/plain": [
       "['the number 1 is odd',\n",
       " 'the number 232 is even',\n",
       " 'the number 34 is even',\n",
       " 'the number 3 is odd',\n",
       " 'the number 32 is even',\n",
       " 'the number 45 is odd',\n",
       " 'the number 5 is odd',\n",
       " 'the number 78 is even',\n",
       " 'the number 10 is even']"
      ]
     },
     "execution_count": 13,
     "metadata": {},
     "output_type": "execute_result"
    }
   ],
   "source": [
    "#map(function,iterationon which)\n",
    "# reduce the work load for doing for loop for all: \n",
    "\n",
    "list(map(even_or_odd,lst))"
   ]
  },
  {
   "cell_type": "markdown",
   "id": "3e3bdbc7",
   "metadata": {},
   "source": [
    "# lambda function:"
   ]
  },
  {
   "cell_type": "code",
   "execution_count": 17,
   "id": "74c74f4a",
   "metadata": {},
   "outputs": [],
   "source": [
    "# it is basically an anonymous futn: a futn with no name:\n",
    "def addition(a,b):\n",
    "    return a+b"
   ]
  },
  {
   "cell_type": "code",
   "execution_count": 18,
   "id": "8cd1da44",
   "metadata": {},
   "outputs": [
    {
     "data": {
      "text/plain": [
       "88"
      ]
     },
     "execution_count": 18,
     "metadata": {},
     "output_type": "execute_result"
    }
   ],
   "source": [
    "addition(34,54)"
   ]
  },
  {
   "cell_type": "code",
   "execution_count": 19,
   "id": "aecabfe8",
   "metadata": {},
   "outputs": [],
   "source": [
    "#using the same with lambda futn\n",
    "# lambda= futn name=lambda valriable,operationalfut define\n",
    "#use when only return has one operational futN not more than one:"
   ]
  },
  {
   "cell_type": "code",
   "execution_count": 20,
   "id": "c380576b",
   "metadata": {},
   "outputs": [],
   "source": [
    "addition=lambda a,b:a+b"
   ]
  },
  {
   "cell_type": "code",
   "execution_count": 21,
   "id": "3b02965f",
   "metadata": {},
   "outputs": [
    {
     "data": {
      "text/plain": [
       "68"
      ]
     },
     "execution_count": 21,
     "metadata": {},
     "output_type": "execute_result"
    }
   ],
   "source": [
    "addition(23,45)"
   ]
  },
  {
   "cell_type": "code",
   "execution_count": 22,
   "id": "182447e8",
   "metadata": {},
   "outputs": [],
   "source": [
    "def even(num):\n",
    "    if num%2==0:\n",
    "        return True\n",
    "    else:\n",
    "        return False"
   ]
  },
  {
   "cell_type": "code",
   "execution_count": 23,
   "id": "4c857b8a",
   "metadata": {},
   "outputs": [
    {
     "data": {
      "text/plain": [
       "False"
      ]
     },
     "execution_count": 23,
     "metadata": {},
     "output_type": "execute_result"
    }
   ],
   "source": [
    "even(35)"
   ]
  },
  {
   "cell_type": "code",
   "execution_count": 24,
   "id": "2f58647f",
   "metadata": {},
   "outputs": [],
   "source": [
    "even=lambda a:a%2==0"
   ]
  },
  {
   "cell_type": "code",
   "execution_count": 25,
   "id": "475c147b",
   "metadata": {},
   "outputs": [
    {
     "data": {
      "text/plain": [
       "False"
      ]
     },
     "execution_count": 25,
     "metadata": {},
     "output_type": "execute_result"
    }
   ],
   "source": [
    "even(23)"
   ]
  },
  {
   "cell_type": "code",
   "execution_count": 26,
   "id": "dc869257",
   "metadata": {},
   "outputs": [],
   "source": [
    "addition=lambda a,b,c:a+b+c"
   ]
  },
  {
   "cell_type": "code",
   "execution_count": 27,
   "id": "96a50674",
   "metadata": {},
   "outputs": [
    {
     "data": {
      "text/plain": [
       "144"
      ]
     },
     "execution_count": 27,
     "metadata": {},
     "output_type": "execute_result"
    }
   ],
   "source": [
    "addition(23,54,67)"
   ]
  },
  {
   "cell_type": "markdown",
   "id": "791c8ce1",
   "metadata": {},
   "source": [
    "# filter function:\n"
   ]
  },
  {
   "cell_type": "code",
   "execution_count": 28,
   "id": "6f6b12f3",
   "metadata": {},
   "outputs": [],
   "source": [
    "def even(num):\n",
    "    if num%2==0:\n",
    "        return True"
   ]
  },
  {
   "cell_type": "code",
   "execution_count": 29,
   "id": "d8b90ac5",
   "metadata": {},
   "outputs": [],
   "source": [
    "lst=[23,53,564,43,53,532,56,7,88]\n"
   ]
  },
  {
   "cell_type": "code",
   "execution_count": 30,
   "id": "c80d2580",
   "metadata": {},
   "outputs": [
    {
     "data": {
      "text/plain": [
       "[564, 532, 56, 88]"
      ]
     },
     "execution_count": 30,
     "metadata": {},
     "output_type": "execute_result"
    }
   ],
   "source": [
    "list(filter(even,lst))"
   ]
  },
  {
   "cell_type": "code",
   "execution_count": 31,
   "id": "2aef1619",
   "metadata": {},
   "outputs": [
    {
     "data": {
      "text/plain": [
       "[564, 532, 56, 88]"
      ]
     },
     "execution_count": 31,
     "metadata": {},
     "output_type": "execute_result"
    }
   ],
   "source": [
    "list(filter(lambda num:num%2==0,lst))"
   ]
  },
  {
   "cell_type": "code",
   "execution_count": 32,
   "id": "d010593c",
   "metadata": {},
   "outputs": [
    {
     "data": {
      "text/plain": [
       "[False, False, True, False, False, True, True, False, True]"
      ]
     },
     "execution_count": 32,
     "metadata": {},
     "output_type": "execute_result"
    }
   ],
   "source": [
    "list(map(lambda num:num%2==0,lst))"
   ]
  },
  {
   "cell_type": "markdown",
   "id": "dbc9b54c",
   "metadata": {},
   "source": [
    "# list comprehension:"
   ]
  },
  {
   "cell_type": "raw",
   "id": "1ed06119",
   "metadata": {},
   "source": [
    "# list comp provide a concise way to create lists.it consists of brackets containing an expression follwed by a for\n",
    "# clause,then zero or more for or if clauses.the expression can be anything,meaning you can put in all kinds of objects in lists:"
   ]
  },
  {
   "cell_type": "code",
   "execution_count": 33,
   "id": "97b02467",
   "metadata": {},
   "outputs": [],
   "source": [
    "lst1=[]\n",
    "def lst_square(lst):\n",
    "    for i in lst:\n",
    "        lst1.append(i*i)\n",
    "    return lst1"
   ]
  },
  {
   "cell_type": "code",
   "execution_count": 34,
   "id": "59fc6ae2",
   "metadata": {},
   "outputs": [
    {
     "data": {
      "text/plain": [
       "[529, 2809, 318096, 1849, 2809, 283024, 3136, 49, 7744]"
      ]
     },
     "execution_count": 34,
     "metadata": {},
     "output_type": "execute_result"
    }
   ],
   "source": [
    "lst_square(lst)"
   ]
  },
  {
   "cell_type": "code",
   "execution_count": 35,
   "id": "904fd110",
   "metadata": {},
   "outputs": [],
   "source": [
    "lst=[1,2,3,5,6,7,8]"
   ]
  },
  {
   "cell_type": "code",
   "execution_count": 36,
   "id": "afde72c1",
   "metadata": {},
   "outputs": [],
   "source": [
    "# i.e for list comprehension:\n",
    "lst1=[i*i for i in lst]"
   ]
  },
  {
   "cell_type": "code",
   "execution_count": 37,
   "id": "80179036",
   "metadata": {},
   "outputs": [
    {
     "name": "stdout",
     "output_type": "stream",
     "text": [
      "[1, 4, 9, 25, 36, 49, 64]\n"
     ]
    }
   ],
   "source": [
    "print(lst1)"
   ]
  },
  {
   "cell_type": "code",
   "execution_count": 38,
   "id": "71f25521",
   "metadata": {},
   "outputs": [],
   "source": [
    "lst1=[i*i for i in lst if i%2!=0]"
   ]
  },
  {
   "cell_type": "code",
   "execution_count": 39,
   "id": "0ea17a78",
   "metadata": {},
   "outputs": [
    {
     "name": "stdout",
     "output_type": "stream",
     "text": [
      "[1, 9, 25, 49]\n"
     ]
    }
   ],
   "source": [
    "print(lst1)"
   ]
  },
  {
   "cell_type": "markdown",
   "id": "a9a6ec78",
   "metadata": {},
   "source": [
    "# string formatting:"
   ]
  },
  {
   "cell_type": "code",
   "execution_count": 40,
   "id": "ce74c0e6",
   "metadata": {},
   "outputs": [
    {
     "name": "stdout",
     "output_type": "stream",
     "text": [
      "hello good morning:\n"
     ]
    }
   ],
   "source": [
    "print(\"hello good morning:\")"
   ]
  },
  {
   "cell_type": "code",
   "execution_count": 41,
   "id": "e59a9a03",
   "metadata": {},
   "outputs": [],
   "source": [
    "def sourabh(name,age):\n",
    "    return(\"hello good morning,{} your age is {}\".format(name,age))"
   ]
  },
  {
   "cell_type": "code",
   "execution_count": 42,
   "id": "8d1f8c2f",
   "metadata": {},
   "outputs": [
    {
     "data": {
      "text/plain": [
       "'hello good morning,sourabh your age is 25'"
      ]
     },
     "execution_count": 42,
     "metadata": {},
     "output_type": "execute_result"
    }
   ],
   "source": [
    "sourabh('sourabh',25)"
   ]
  },
  {
   "cell_type": "code",
   "execution_count": 43,
   "id": "9459f522",
   "metadata": {},
   "outputs": [],
   "source": [
    "def sourabh(name,age):\n",
    "    return(\"hello good morning,{name1} your age is {age1}\".format(name1=name,age1=age))"
   ]
  },
  {
   "cell_type": "code",
   "execution_count": 44,
   "id": "d7489795",
   "metadata": {},
   "outputs": [
    {
     "data": {
      "text/plain": [
       "'hello good morning,sourabh bainsla your age is 27'"
      ]
     },
     "execution_count": 44,
     "metadata": {},
     "output_type": "execute_result"
    }
   ],
   "source": [
    "sourabh('sourabh bainsla',27)"
   ]
  },
  {
   "cell_type": "markdown",
   "id": "a468756e",
   "metadata": {},
   "source": [
    "# list iterable vs iterators:"
   ]
  },
  {
   "cell_type": "code",
   "execution_count": 45,
   "id": "c20e1a80",
   "metadata": {},
   "outputs": [
    {
     "name": "stdout",
     "output_type": "stream",
     "text": [
      "1\n",
      "2\n",
      "3\n",
      "4\n",
      "5\n",
      "6\n",
      "7\n",
      "7\n"
     ]
    }
   ],
   "source": [
    "list=[1,2,3,4,5,6,7,7]\n",
    "for i in list:\n",
    "    print(i)"
   ]
  },
  {
   "cell_type": "code",
   "execution_count": 46,
   "id": "64b52b86",
   "metadata": {},
   "outputs": [],
   "source": [
    "#basically in iterator memory location is not assign to the futn until we call it by using next in futn:\n",
    "lst=iter(list)"
   ]
  },
  {
   "cell_type": "code",
   "execution_count": 47,
   "id": "c6518a13",
   "metadata": {},
   "outputs": [
    {
     "data": {
      "text/plain": [
       "<list_iterator at 0x1f5d56d2590>"
      ]
     },
     "execution_count": 47,
     "metadata": {},
     "output_type": "execute_result"
    }
   ],
   "source": [
    "lst"
   ]
  },
  {
   "cell_type": "code",
   "execution_count": 48,
   "id": "b2f41598",
   "metadata": {},
   "outputs": [
    {
     "data": {
      "text/plain": [
       "1"
      ]
     },
     "execution_count": 48,
     "metadata": {},
     "output_type": "execute_result"
    }
   ],
   "source": [
    "next(lst)"
   ]
  },
  {
   "cell_type": "code",
   "execution_count": 49,
   "id": "dc8eebc0",
   "metadata": {},
   "outputs": [
    {
     "name": "stdout",
     "output_type": "stream",
     "text": [
      "2\n",
      "3\n",
      "4\n",
      "5\n",
      "6\n",
      "7\n",
      "7\n"
     ]
    }
   ],
   "source": [
    "for i in lst:\n",
    "    print(i)"
   ]
  },
  {
   "cell_type": "code",
   "execution_count": 56,
   "id": "0c55a85b",
   "metadata": {},
   "outputs": [],
   "source": [
    "#pyforest lib is used for not so that you don't need to import lib every time:\n",
    "# as see it\n",
    "list1=[1,2,3,4,52,100,400]\n",
    "list2=[43,23,45,80,322,345,34]"
   ]
  },
  {
   "cell_type": "code",
   "execution_count": 57,
   "id": "f4327306",
   "metadata": {},
   "outputs": [],
   "source": [
    "import matplotlib.pyplot as plt"
   ]
  },
  {
   "cell_type": "code",
   "execution_count": 59,
   "id": "f5c08f1b",
   "metadata": {},
   "outputs": [
    {
     "data": {
      "image/png": "[encoded data removed]",
      "text/plain": [
       "<Figure size 640x480 with 1 Axes>"
      ]
     },
     "metadata": {},
     "output_type": "display_data"
    }
   ],
   "source": [
    "plt.plot(list1,list2)\n",
    "plt.xlabel(\" x axis\")\n",
    "plt.ylabel(\" y axis\")\n",
    "plt.show()"
   ]
  },
  {
   "cell_type": "code",
   "execution_count": 60,
   "id": "2cb3b820",
   "metadata": {},
   "outputs": [
    {
     "name": "stdout",
     "output_type": "stream",
     "text": [
      "\n"
     ]
    },
    {
     "data": {
      "text/plain": [
       "[]"
      ]
     },
     "execution_count": 60,
     "metadata": {},
     "output_type": "execute_result"
    }
   ],
   "source": [
    "active_imports()"
   ]
  },
  {
   "cell_type": "code",
   "execution_count": null,
   "id": "ac952127",
   "metadata": {},
   "outputs": [],
   "source": []
  },
  {
   "cell_type": "code",
   "execution_count": null,
   "id": "32922a18",
   "metadata": {},
   "outputs": [],
   "source": []
  }
 ],
 "metadata": {
  "kernelspec": {
   "display_name": "Python 3 (ipykernel)",
   "language": "python",
   "name": "python3"
  },
  "language_info": {
   "codemirror_mode": {
    "name": "ipython",
    "version": 3
   },
   "file_extension": ".py",
   "mimetype": "text/x-python",
   "name": "python",
   "nbconvert_exporter": "python",
   "pygments_lexer": "ipython3",
   "version": "3.10.9"
  }
 },
 "nbformat": 4,
 "nbformat_minor": 5
}
