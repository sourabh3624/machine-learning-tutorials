{
 "cells": [
  {
   "cell_type": "markdown",
   "id": "816f7370",
   "metadata": {},
   "source": [
    "# function:\n"
   ]
  },
  {
   "cell_type": "code",
   "execution_count": 1,
   "id": "38b5d7a3",
   "metadata": {},
   "outputs": [
    {
     "name": "stdout",
     "output_type": "stream",
     "text": [
      "the num is even\n"
     ]
    }
   ],
   "source": [
    "num=24\n",
    "if num%2==0:\n",
    "    print(\"the num is even\")\n",
    "else:\n",
    "    print(\"the no is not even\")"
   ]
  },
  {
   "cell_type": "code",
   "execution_count": 3,
   "id": "6dba568b",
   "metadata": {},
   "outputs": [],
   "source": [
    "def even_num(num):\n",
    "    if num%2==0:\n",
    "        print(\"the num is even\")\n",
    "    else:\n",
    "        print(\"the no is not even\")\n",
    "    "
   ]
  },
  {
   "cell_type": "code",
   "execution_count": 4,
   "id": "3d903eb8",
   "metadata": {},
   "outputs": [
    {
     "name": "stdout",
     "output_type": "stream",
     "text": [
      "the num is even\n"
     ]
    }
   ],
   "source": [
    "even_num(20)"
   ]
  },
  {
   "cell_type": "code",
   "execution_count": 6,
   "id": "5ba9d5e5",
   "metadata": {},
   "outputs": [],
   "source": [
    "#print vs return \n",
    "def hello_world():\n",
    "    print(\"hello world\")"
   ]
  },
  {
   "cell_type": "code",
   "execution_count": 7,
   "id": "21537fb2",
   "metadata": {},
   "outputs": [
    {
     "name": "stdout",
     "output_type": "stream",
     "text": [
      "hello world\n"
     ]
    }
   ],
   "source": [
    "hello_world()"
   ]
  },
  {
   "cell_type": "code",
   "execution_count": 8,
   "id": "b6a2ae74",
   "metadata": {},
   "outputs": [
    {
     "name": "stdout",
     "output_type": "stream",
     "text": [
      "hello world\n"
     ]
    }
   ],
   "source": [
    "val=hello_world()"
   ]
  },
  {
   "cell_type": "code",
   "execution_count": 9,
   "id": "e61a24ce",
   "metadata": {},
   "outputs": [
    {
     "name": "stdout",
     "output_type": "stream",
     "text": [
      "None\n"
     ]
    }
   ],
   "source": [
    "# here value will be return is none\n",
    "print(val)"
   ]
  },
  {
   "cell_type": "code",
   "execution_count": 10,
   "id": "6361d7d9",
   "metadata": {},
   "outputs": [],
   "source": [
    "def hello_world():\n",
    "    return (\"hello world\")"
   ]
  },
  {
   "cell_type": "code",
   "execution_count": 11,
   "id": "5f6a46f5",
   "metadata": {},
   "outputs": [
    {
     "name": "stdout",
     "output_type": "stream",
     "text": [
      "hello world\n"
     ]
    }
   ],
   "source": [
    "# here it will gives value of it not the return none here:\n",
    "val=hello_world()\n",
    "print(val)"
   ]
  },
  {
   "cell_type": "code",
   "execution_count": 13,
   "id": "a37c3ba5",
   "metadata": {},
   "outputs": [],
   "source": [
    "# name is positional argument and age is my keyword argument:\n",
    "\n",
    "def hello(name,age=25):\n",
    "    print(\"my name is {} and age is{}\".format(name,age))"
   ]
  },
  {
   "cell_type": "code",
   "execution_count": 14,
   "id": "c441e11e",
   "metadata": {},
   "outputs": [
    {
     "name": "stdout",
     "output_type": "stream",
     "text": [
      "my name is sourabh bainsla and age is25\n"
     ]
    }
   ],
   "source": [
    "hello('sourabh bainsla')"
   ]
  },
  {
   "cell_type": "code",
   "execution_count": 2,
   "id": "b9454ba1",
   "metadata": {},
   "outputs": [],
   "source": [
    "def hello(*args,**kwargs):\n",
    "    print(args)\n",
    "    print(kwargs)"
   ]
  },
  {
   "cell_type": "code",
   "execution_count": 3,
   "id": "49999f8c",
   "metadata": {},
   "outputs": [
    {
     "name": "stdout",
     "output_type": "stream",
     "text": [
      "('sourabh', 'bainsla')\n",
      "{'age': 25, 'dob': 1998}\n"
     ]
    }
   ],
   "source": [
    "hello('sourabh',\"bainsla\",age=25,dob=1998)"
   ]
  },
  {
   "cell_type": "code",
   "execution_count": 4,
   "id": "d63f779c",
   "metadata": {},
   "outputs": [],
   "source": [
    "lst=['sourabh',\"bainsla\"]\n",
    "dict={ 'age' : 25,'dob' : 1998}"
   ]
  },
  {
   "cell_type": "code",
   "execution_count": 5,
   "id": "866b7cf7",
   "metadata": {},
   "outputs": [
    {
     "name": "stdout",
     "output_type": "stream",
     "text": [
      "('sourabh', 'bainsla')\n",
      "{'age': 25, 'dob': 1998}\n"
     ]
    }
   ],
   "source": [
    "hello(*lst,**dict)"
   ]
  },
  {
   "cell_type": "code",
   "execution_count": 6,
   "id": "0de2c818",
   "metadata": {},
   "outputs": [],
   "source": [
    "lst=[1,232,34,3,32,45,5,78,10]"
   ]
  },
  {
   "cell_type": "code",
   "execution_count": 7,
   "id": "51073512",
   "metadata": {},
   "outputs": [],
   "source": [
    "def evenoddsum(lst):\n",
    "    even_sum=0\n",
    "    odd_sum=0\n",
    "    for i in lst:\n",
    "        if i%2==0:\n",
    "            even_sum=even_sum+i\n",
    "        else:\n",
    "            odd_sum=odd_sum+i\n",
    "    return even_sum,odd_sum"
   ]
  },
  {
   "cell_type": "code",
   "execution_count": 8,
   "id": "e803072f",
   "metadata": {},
   "outputs": [
    {
     "data": {
      "text/plain": [
       "(386, 54)"
      ]
     },
     "execution_count": 8,
     "metadata": {},
     "output_type": "execute_result"
    }
   ],
   "source": [
    "evenoddsum(lst)"
   ]
  },
  {
   "cell_type": "markdown",
   "id": "e82f2662",
   "metadata": {},
   "source": [
    "# map:\n"
   ]
  },
  {
   "cell_type": "code",
   "execution_count": 9,
   "id": "a223748d",
   "metadata": {},
   "outputs": [],
   "source": [
    "def even_or_odd(num):\n",
    "    if num%2==0:\n",
    "        return\"the number {} is even\".format(num)\n",
    "    else:\n",
    "        return\"the number {} is odd\".format(num)\n",
    "        "
   ]
  },
  {
   "cell_type": "code",
   "execution_count": 10,
   "id": "c4494d82",
   "metadata": {},
   "outputs": [
    {
     "data": {
      "text/plain": [
       "'the number 35 is odd'"
      ]
     },
     "execution_count": 10,
     "metadata": {},
     "output_type": "execute_result"
    }
   ],
   "source": [
    "even_or_odd(35)"
   ]
  },
  {
   "cell_type": "code",
   "execution_count": 11,
   "id": "cb0a6988",
   "metadata": {},
   "outputs": [],
   "source": [
    "lst=[1,232,34,3,32,45,5,78,10]"
   ]
  },
  {
   "cell_type": "code",
   "execution_count": 13,
   "id": "49d8e004",
   "metadata": {},
   "outputs": [
    {
     "data": {
      "text/plain": [
       "['the number 1 is odd',\n",
       " 'the number 232 is even',\n",
       " 'the number 34 is even',\n",
       " 'the number 3 is odd',\n",
       " 'the number 32 is even',\n",
       " 'the number 45 is odd',\n",
       " 'the number 5 is odd',\n",
       " 'the number 78 is even',\n",
       " 'the number 10 is even']"
      ]
     },
     "execution_count": 13,
     "metadata": {},
     "output_type": "execute_result"
    }
   ],
   "source": [
    "#map(function,iterationon which)\n",
    "# reduce the work load for doing for loop for all: \n",
    "\n",
    "list(map(even_or_odd,lst))"
   ]
  },
  {
   "cell_type": "markdown",
   "id": "5cb2a573",
   "metadata": {},
   "source": [
    "# lambda function:"
   ]
  },
  {
   "cell_type": "code",
   "execution_count": 14,
   "id": "7c846823",
   "metadata": {},
   "outputs": [],
   "source": [
    "# it is basically an anonymous futn: a futn with no name:\n",
    "def addition(a,b):\n",
    "    return a+b"
   ]
  },
  {
   "cell_type": "code",
   "execution_count": 15,
   "id": "a7697d68",
   "metadata": {},
   "outputs": [
    {
     "data": {
      "text/plain": [
       "88"
      ]
     },
     "execution_count": 15,
     "metadata": {},
     "output_type": "execute_result"
    }
   ],
   "source": [
    "addition(34,54)"
   ]
  },
  {
   "cell_type": "code",
   "execution_count": 36,
   "id": "d46e728f",
   "metadata": {},
   "outputs": [],
   "source": [
    "#using the same with lambda futn\n",
    "# lambda= futn name=lambda valriable,operationalfut define\n",
    "#use when only return has one operational futN not more than one:"
   ]
  },
  {
   "cell_type": "code",
   "execution_count": 37,
   "id": "094df420",
   "metadata": {},
   "outputs": [],
   "source": [
    "addition=lambda a,b:a+b"
   ]
  },
  {
   "cell_type": "code",
   "execution_count": 38,
   "id": "2fd4623d",
   "metadata": {},
   "outputs": [
    {
     "data": {
      "text/plain": [
       "68"
      ]
     },
     "execution_count": 38,
     "metadata": {},
     "output_type": "execute_result"
    }
   ],
   "source": [
    "addition(23,45)"
   ]
  },
  {
   "cell_type": "code",
   "execution_count": 39,
   "id": "ba636ad5",
   "metadata": {},
   "outputs": [],
   "source": [
    "def even(num):\n",
    "    if num%2==0:\n",
    "        return True\n",
    "    else:\n",
    "        return False"
   ]
  },
  {
   "cell_type": "code",
   "execution_count": 40,
   "id": "adca5d94",
   "metadata": {},
   "outputs": [
    {
     "data": {
      "text/plain": [
       "False"
      ]
     },
     "execution_count": 40,
     "metadata": {},
     "output_type": "execute_result"
    }
   ],
   "source": [
    "even(35)"
   ]
  },
  {
   "cell_type": "code",
   "execution_count": 41,
   "id": "c2ce8c97",
   "metadata": {},
   "outputs": [],
   "source": [
    "even=lambda a:a%2==0"
   ]
  },
  {
   "cell_type": "code",
   "execution_count": 42,
   "id": "43b583c0",
   "metadata": {},
   "outputs": [
    {
     "data": {
      "text/plain": [
       "False"
      ]
     },
     "execution_count": 42,
     "metadata": {},
     "output_type": "execute_result"
    }
   ],
   "source": [
    "even(23)"
   ]
  },
  {
   "cell_type": "code",
   "execution_count": 43,
   "id": "7ed260a2",
   "metadata": {},
   "outputs": [],
   "source": [
    "addition=lambda a,b,c:a+b+c"
   ]
  },
  {
   "cell_type": "code",
   "execution_count": 44,
   "id": "6af998da",
   "metadata": {},
   "outputs": [
    {
     "data": {
      "text/plain": [
       "144"
      ]
     },
     "execution_count": 44,
     "metadata": {},
     "output_type": "execute_result"
    }
   ],
   "source": [
    "addition(23,54,67)"
   ]
  },
  {
   "cell_type": "markdown",
   "id": "7ae52431",
   "metadata": {},
   "source": [
    "# filter function:\n"
   ]
  },
  {
   "cell_type": "code",
   "execution_count": 45,
   "id": "19a150dc",
   "metadata": {},
   "outputs": [],
   "source": [
    "def even(num):\n",
    "    if num%2==0:\n",
    "        return True"
   ]
  },
  {
   "cell_type": "code",
   "execution_count": 46,
   "id": "e3dccc3d",
   "metadata": {},
   "outputs": [],
   "source": [
    "lst=[23,53,564,43,53,532,56,7,88]\n"
   ]
  },
  {
   "cell_type": "code",
   "execution_count": 47,
   "id": "81ee5330",
   "metadata": {},
   "outputs": [
    {
     "data": {
      "text/plain": [
       "[564, 532, 56, 88]"
      ]
     },
     "execution_count": 47,
     "metadata": {},
     "output_type": "execute_result"
    }
   ],
   "source": [
    "list(filter(even,lst))"
   ]
  },
  {
   "cell_type": "code",
   "execution_count": 48,
   "id": "6d2a18c1",
   "metadata": {},
   "outputs": [
    {
     "data": {
      "text/plain": [
       "[564, 532, 56, 88]"
      ]
     },
     "execution_count": 48,
     "metadata": {},
     "output_type": "execute_result"
    }
   ],
   "source": [
    "list(filter(lambda num:num%2==0,lst))"
   ]
  },
  {
   "cell_type": "code",
   "execution_count": 49,
   "id": "1d3bd19b",
   "metadata": {},
   "outputs": [
    {
     "data": {
      "text/plain": [
       "[False, False, True, False, False, True, True, False, True]"
      ]
     },
     "execution_count": 49,
     "metadata": {},
     "output_type": "execute_result"
    }
   ],
   "source": [
    "list(map(lambda num:num%2==0,lst))"
   ]
  },
  {
   "cell_type": "markdown",
   "id": "0c5c4e1d",
   "metadata": {},
   "source": [
    "# list comprehension:"
   ]
  },
  {
   "cell_type": "raw",
   "id": "120c31b3",
   "metadata": {},
   "source": [
    "# list comp provide a concise way to create lists.it consists of brackets containing an expression follwed by a for\n",
    "# clause,then zero or more for or if clauses.the expression can be anything,meaning you can put in all kinds of objects in lists:"
   ]
  },
  {
   "cell_type": "code",
   "execution_count": 51,
   "id": "dda97479",
   "metadata": {},
   "outputs": [],
   "source": [
    "lst1=[]\n",
    "def lst_square(lst):\n",
    "    for i in lst:\n",
    "        lst1.append(i*i)\n",
    "    return lst1"
   ]
  },
  {
   "cell_type": "code",
   "execution_count": 52,
   "id": "fbfad5de",
   "metadata": {},
   "outputs": [
    {
     "data": {
      "text/plain": [
       "[529, 2809, 318096, 1849, 2809, 283024, 3136, 49, 7744]"
      ]
     },
     "execution_count": 52,
     "metadata": {},
     "output_type": "execute_result"
    }
   ],
   "source": [
    "lst_square(lst)"
   ]
  },
  {
   "cell_type": "code",
   "execution_count": 54,
   "id": "0cca58a6",
   "metadata": {},
   "outputs": [],
   "source": [
    "lst=[1,2,3,5,6,7,8]"
   ]
  },
  {
   "cell_type": "code",
   "execution_count": 56,
   "id": "28b3120b",
   "metadata": {},
   "outputs": [],
   "source": [
    "# i.e for list comprehension:\n",
    "lst1=[i*i for i in lst]"
   ]
  },
  {
   "cell_type": "code",
   "execution_count": 57,
   "id": "46a6333c",
   "metadata": {},
   "outputs": [
    {
     "name": "stdout",
     "output_type": "stream",
     "text": [
      "[1, 4, 9, 25, 36, 49, 64]\n"
     ]
    }
   ],
   "source": [
    "print(lst1)"
   ]
  },
  {
   "cell_type": "code",
   "execution_count": 58,
   "id": "5418ff97",
   "metadata": {},
   "outputs": [],
   "source": [
    "lst1=[i*i for i in lst if i%2!=0]"
   ]
  },
  {
   "cell_type": "code",
   "execution_count": 59,
   "id": "d2429f97",
   "metadata": {},
   "outputs": [
    {
     "name": "stdout",
     "output_type": "stream",
     "text": [
      "[1, 9, 25, 49]\n"
     ]
    }
   ],
   "source": [
    "print(lst1)"
   ]
  },
  {
   "cell_type": "code",
   "execution_count": null,
   "id": "70340476",
   "metadata": {},
   "outputs": [],
   "source": []
  }
 ],
 "metadata": {
  "kernelspec": {
   "display_name": "Python 3 (ipykernel)",
   "language": "python",
   "name": "python3"
  },
  "language_info": {
   "codemirror_mode": {
    "name": "ipython",
    "version": 3
   },
   "file_extension": ".py",
   "mimetype": "text/x-python",
   "name": "python",
   "nbconvert_exporter": "python",
   "pygments_lexer": "ipython3",
   "version": "3.10.9"
  }
 },
 "nbformat": 4,
 "nbformat_minor": 5
}
